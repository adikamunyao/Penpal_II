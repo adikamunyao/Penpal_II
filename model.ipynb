{
 "cells": [
  {
   "cell_type": "markdown",
   "id": "56c703d5",
   "metadata": {},
   "source": [
    "<H3>Data</h3>\n",
    "    \n",
    "    The IAM Handwriting Database contains forms of handwritten English text which can be used to train and test handwritten text recognizers and to perform writer identification and verification experiments.\n",
    "\n",
    "    * 657 writers contributed samples of their writings.\n",
    "    * 1532 pages of scanned text.\n",
    "    * 5685 isolated and labeled sentences."
   ]
  },
  {
   "cell_type": "code",
   "execution_count": 13,
   "id": "8a01ef41",
   "metadata": {},
   "outputs": [
    {
     "name": "stdout",
     "output_type": "stream",
     "text": [
      "Sample 1:\n",
      "Line ID: f07-101a-00\n",
      "Segmentation Result: ok\n",
      "Graylevel: 150\n",
      "Number of Components: 34\n",
      "Bounding Box: [331, 693, 1711, 64]\n",
      "Transcription: THE|SAME|MAN|WENT|TO|SEE|CARLYLE|,|AND|,\n",
      "\n",
      "Sample 2:\n",
      "Line ID: m06-106-04\n",
      "Segmentation Result: ok\n",
      "Graylevel: 158\n",
      "Number of Components: 38\n",
      "Bounding Box: [359, 1494, 1900, 101]\n",
      "Transcription: that|they|learned|to|fly|properly|.|The|pains|associated\n",
      "\n",
      "Sample 3:\n",
      "Line ID: g06-031i-06\n",
      "Segmentation Result: err\n",
      "Graylevel: 162\n",
      "Number of Components: 43\n",
      "Bounding Box: [346, 1838, 1822, 98]\n",
      "Transcription: mass|of|Radicalism|,|&|then|God|knows|what|may|happen|...|.\n",
      "\n",
      "Sample 4:\n",
      "Line ID: g01-034-01\n",
      "Segmentation Result: ok\n",
      "Graylevel: 153\n",
      "Number of Components: 32\n",
      "Bounding Box: [360, 952, 1662, 87]\n",
      "Transcription: booty|,|a|new|group|of|Lords|might|oust\n",
      "\n",
      "Sample 5:\n",
      "Line ID: e06-033-08\n",
      "Segmentation Result: ok\n",
      "Graylevel: 174\n",
      "Number of Components: 21\n",
      "Bounding Box: [352, 2137, 1728, 166]\n",
      "Transcription: been|the|biggest|factor|through|the|ages\n",
      "\n"
     ]
    }
   ],
   "source": [
    "import random\n",
    "\n",
    "# Set the random seed\n",
    "random.seed(2023)\n",
    "\n",
    "# Define the file paths\n",
    "lines_file_path = \"./data/ascii/lines.txt\"\n",
    "lines_directory_path = \"./data/lines\"\n",
    "\n",
    "# Read the lines file\n",
    "with open(lines_file_path, 'r') as file:\n",
    "    lines = file.readlines()\n",
    "\n",
    "# Process the lines and extract information\n",
    "line_data = []\n",
    "for line in lines:\n",
    "    if line.startswith('#') or line.strip() == '':\n",
    "        continue\n",
    "    line_parts = line.strip().split()\n",
    "    line_id = line_parts[0]\n",
    "    segmentation_result = line_parts[1]\n",
    "    graylevel = int(line_parts[2])\n",
    "    num_components = int(line_parts[3])\n",
    "    bounding_box = list(map(int, line_parts[4:8]))\n",
    "    transcription = line_parts[8:]\n",
    "    line_info = {\n",
    "        'line_id': line_id,\n",
    "        'segmentation_result': segmentation_result,\n",
    "        'graylevel': graylevel,\n",
    "        'num_components': num_components,\n",
    "        'bounding_box': bounding_box,\n",
    "        'transcription': transcription\n",
    "    }\n",
    "    line_data.append(line_info)\n",
    "\n",
    "# Display the first few line samples\n",
    "num_samples_to_display = 5\n",
    "random_samples = random.sample(line_data, num_samples_to_display)\n",
    "\n",
    "for i, sample in enumerate(random_samples):\n",
    "    print(f\"Sample {i+1}:\")\n",
    "    print(\"Line ID:\", sample['line_id'])\n",
    "    print(\"Segmentation Result:\", sample['segmentation_result'])\n",
    "    print(\"Graylevel:\", sample['graylevel'])\n",
    "    print(\"Number of Components:\", sample['num_components'])\n",
    "    print(\"Bounding Box:\", sample['bounding_box'])\n",
    "    print(\"Transcription:\", ' '.join(sample['transcription']))\n",
    "    print()\n"
   ]
  },
  {
   "cell_type": "code",
   "execution_count": 15,
   "id": "f2124ca5",
   "metadata": {},
   "outputs": [
    {
     "data": {
      "image/png": "[encoded data removed]",
      "text/plain": [
       "<Figure size 640x480 with 1 Axes>"
      ]
     },
     "metadata": {},
     "output_type": "display_data"
    }
   ],
   "source": [
    "import matplotlib.pyplot as plt \n",
    "# Define the file paths\n",
    "image_path = \"./data/lines/a01/a01-000u/a01-000u-00.png\"\n",
    "\n",
    "# Load and display the image\n",
    "image = mpimg.imread(image_path)\n",
    "plt.imshow(image, cmap='gray')\n",
    "plt.axis('off')\n",
    "plt.show()"
   ]
  }
 ],
 "metadata": {
  "kernelspec": {
   "display_name": "Venv",
   "language": "python",
   "name": "venv"
  },
  "language_info": {
   "codemirror_mode": {
    "name": "ipython",
    "version": 3
   },
   "file_extension": ".py",
   "mimetype": "text/x-python",
   "name": "python",
   "nbconvert_exporter": "python",
   "pygments_lexer": "ipython3",
   "version": "3.10.9"
  }
 },
 "nbformat": 4,
 "nbformat_minor": 5
}
